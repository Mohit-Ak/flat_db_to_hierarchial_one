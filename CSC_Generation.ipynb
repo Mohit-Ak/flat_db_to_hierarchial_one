{
  "nbformat": 4,
  "nbformat_minor": 0,
  "metadata": {
    "colab": {
      "name": "CSC-Generation.ipynb",
      "provenance": [],
      "collapsed_sections": [],
      "authorship_tag": "ABX9TyN5Tl5WMdrjax9pYwro8UAb",
      "include_colab_link": true
    },
    "kernelspec": {
      "name": "python3",
      "display_name": "Python 3"
    },
    "language_info": {
      "name": "python"
    }
  },
  "cells": [
    {
      "cell_type": "markdown",
      "metadata": {
        "id": "view-in-github",
        "colab_type": "text"
      },
      "source": [
        "<a href=\"https://colab.research.google.com/github/Mohit-Ak/flat_db_to_hierarchial_one/blob/main/CSC_Generation.ipynb\" target=\"_parent\"><img src=\"https://colab.research.google.com/assets/colab-badge.svg\" alt=\"Open In Colab\"/></a>"
      ]
    },
    {
      "cell_type": "markdown",
      "metadata": {
        "id": "92pbtrKe5MMF"
      },
      "source": [
        "## CSC Generation Challenge\n",
        "---\n",
        "### Sorting a category list from a flat database for insert into a hierarchy-constrained one\n",
        "\n",
        "##### by Mohit Arvind Khakharia"
      ]
    },
    {
      "cell_type": "code",
      "metadata": {
        "id": "MZnONmhG3kKP"
      },
      "source": [
        "import json\n",
        "product_json = [\n",
        "  {\n",
        "    \"name\": \"Accessories\",\n",
        "    \"id\": 1,\n",
        "    \"parent_id\": 20,\n",
        "  },\n",
        "  {\n",
        "    \"name\": \"Watches\",\n",
        "    \"id\": 57,\n",
        "    \"parent_id\": 1\n",
        "  },\n",
        "    {\n",
        "    \"name\": \"bags\",\n",
        "    \"id\": 59,\n",
        "    \"parent_id\": 1\n",
        "  },\n",
        "  {\n",
        "    \"name\": \"Men\",\n",
        "    \"id\": 20,\n",
        "    \"parent_id\": None\n",
        "  }\n",
        "]"
      ],
      "execution_count": 34,
      "outputs": []
    },
    {
      "cell_type": "markdown",
      "metadata": {
        "id": "3IUkEvBSCsOl"
      },
      "source": [
        "## Optimized Solution\n",
        "- Complexity O(n)\n",
        "- We have three trees that helo us in solving the problem in O(n)+O(n) = O(n) time.\n",
        "- This is way better than recursion or multiple nest \"for\" loops that take exponential time."
      ]
    },
    {
      "cell_type": "code",
      "metadata": {
        "colab": {
          "base_uri": "https://localhost:8080/"
        },
        "id": "SJ4TDBX_Cq_P",
        "outputId": "1c922b69-47a2-4b70-c2a6-ec440f24a6c8"
      },
      "source": [
        "def sortCategoriesForInsert(product_json):\n",
        "  product_reference_dict={} #Declaring a dictonary to hold the input product JSON. Will be used for lookups.\n",
        "  item_child_dict={} #A JSON that will hold the parent to list of children tree. Note: It only has a list of direct children and not grand children.\n",
        "  child_parent_dict={} #A JSON that will hold the child to parent tree. Every child will have exactly one parent.\n",
        "  number_of_items=len(product_json) #Holds the number of items.\n",
        "  for item in product_json:\n",
        "    item_id=item['id']\n",
        "    parent_id=item['parent_id']\n",
        "    child_parent_dict[item_id]=parent_id\n",
        "    product_reference_dict[item_id]=item\n",
        "    if item_id not in item_child_dict: #Create an empty object if not alreadt present.\n",
        "      item_child_dict[item_id] = None\n",
        "    if parent_id is not None:\n",
        "      if parent_id not in item_child_dict:\n",
        "        item_child_dict[parent_id] = [item] #Create parent and Add the first child to the parent\n",
        "      else:\n",
        "        if item_child_dict[parent_id] == None:\n",
        "          item_child_dict[parent_id]=[item] #Add the first child to the parent\n",
        "        else:\n",
        "          item_child_dict[parent_id].append(item) #Append the child to the existing children list for the parent\n",
        "  print(\"The input product JSON \\n%s\\n\"%product_reference_dict) #Print Product JSON\n",
        "  print(\"The Parent to Children JSON \\n%s\\n\"%item_child_dict)  #Print Parent to Children JSON\n",
        "  print(\"Child to Parent JSON \\n%s\\n\"%child_parent_dict) #Print Child to Parent JSON\n",
        "  print(\"========  Result JSON  ========\\n\")\n",
        "  process_queue=[] #A queue that holds all the leaf children that are currently being processed.\n",
        "  for key,children in item_child_dict.items():\n",
        "    if children == None:\n",
        "        process_queue.append(key)\n",
        "  \n",
        "  result= [None] * number_of_items #Optimzation: We are declaring an array of size \"number_of_items\" in product catalog because we would like to populate it from the end.\n",
        "  i=0\n",
        "  while len(process_queue)!=0: #Loop runs as long as there is atleast one leaf node\n",
        "    leaf_id=process_queue.pop(0)\n",
        "    del item_child_dict[leaf_id] #Delete the leaf node. This would be added to the result below.\n",
        "    leaf_node=product_reference_dict[leaf_id]\n",
        "    i=i+1\n",
        "    result[number_of_items-i]=product_reference_dict[leaf_id]  #Optimzation: We populate the result from the end to avoid a reversal that takes O(n).\n",
        "    parent_id=child_parent_dict[leaf_id]\n",
        "    if parent_id is not None: #Check if the child has parents.\n",
        "      item_child_dict[parent_id].remove(leaf_node) #Remove the given child from the parent's children list. This only takes O(k) time where k=Number of children\n",
        "      if len(item_child_dict[parent_id])==0: #Check if the parent has zero children and this became a leaf node.\n",
        "        item_child_dict[parent_id]=None\n",
        "        process_queue.append(parent_id)  #Add newly created leaf node to the process queue.\n",
        "  return result\n",
        "  \n",
        "\n",
        "\n",
        "sortCategoriesForInsert(product_json)\n",
        "    \n"
      ],
      "execution_count": 42,
      "outputs": [
        {
          "output_type": "stream",
          "name": "stdout",
          "text": [
            "The input product JSON \n",
            "{1: {'name': 'Accessories', 'id': 1, 'parent_id': 20}, 57: {'name': 'Watches', 'id': 57, 'parent_id': 1}, 59: {'name': 'bags', 'id': 59, 'parent_id': 1}, 20: {'name': 'Men', 'id': 20, 'parent_id': None}}\n",
            "\n",
            "The Parent to Children JSON \n",
            "{1: [{'name': 'Watches', 'id': 57, 'parent_id': 1}, {'name': 'bags', 'id': 59, 'parent_id': 1}], 20: [{'name': 'Accessories', 'id': 1, 'parent_id': 20}], 57: None, 59: None}\n",
            "\n",
            "Child to Parent JSON \n",
            "{1: 20, 57: 1, 59: 1, 20: None}\n",
            "\n",
            "========  Result JSON  ========\n",
            "\n"
          ]
        },
        {
          "output_type": "execute_result",
          "data": {
            "text/plain": [
              "[{'id': 20, 'name': 'Men', 'parent_id': None},\n",
              " {'id': 1, 'name': 'Accessories', 'parent_id': 20},\n",
              " {'id': 59, 'name': 'bags', 'parent_id': 1},\n",
              " {'id': 57, 'name': 'Watches', 'parent_id': 1}]"
            ]
          },
          "metadata": {},
          "execution_count": 42
        }
      ]
    },
    {
      "cell_type": "markdown",
      "metadata": {
        "id": "VP1zLQSb5_91"
      },
      "source": [
        "## Method 2\n",
        "- This is a recursive solution which is not very efficient.\n",
        "- It takes exponential time."
      ]
    },
    {
      "cell_type": "code",
      "metadata": {
        "id": "HGBk7M6J3xsR"
      },
      "source": [
        "def get_children(parent_id, product_json, result_json):\n",
        "    for i in product_json:\n",
        "        if i.get('parent_id') == parent_id:\n",
        "            result_json.append(i)\n",
        "            get_children(i.get('id'), product_json, result_json)\n",
        "    return result_json\n",
        "\n",
        "def sortCategoriesForInsert(product_json):\n",
        "    result_json = []\n",
        "    for j in product_json:\n",
        "        if j.get('parent_id') == None:\n",
        "            result_json.append(j)\n",
        "            get_children(j.get('id'), product_json, result_json)\n",
        "    return result_json\n",
        "\n"
      ],
      "execution_count": null,
      "outputs": []
    },
    {
      "cell_type": "code",
      "metadata": {
        "colab": {
          "base_uri": "https://localhost:8080/"
        },
        "id": "MzbjyRoS3-rq",
        "outputId": "541095bf-ef3f-4b03-ace8-074a0177463d"
      },
      "source": [
        "result_json=sortCategoriesForInsert(product_json)\n",
        "print(result_json)"
      ],
      "execution_count": null,
      "outputs": [
        {
          "output_type": "stream",
          "name": "stdout",
          "text": [
            "[{'name': 'Men', 'id': 20, 'parent_id': None}, {'name': 'Accessories', 'id': 1, 'parent_id': 20}, {'name': 'Watches', 'id': 57, 'parent_id': 1}]\n"
          ]
        }
      ]
    }
  ]
}